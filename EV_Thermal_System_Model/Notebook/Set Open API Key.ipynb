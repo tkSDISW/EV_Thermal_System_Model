{
 "cells": [
  {
   "cell_type": "markdown",
   "id": "b453c90d-bb21-412f-8299-126e367419c1",
   "metadata": {},
   "source": [
    "# Securely Store OpenAI API Key\n",
    "\n",
    "This Jupyter Notebook prompts the user for their OpenAI API key, then securely stores it in a hidden directory (`~/.secrets`)."
   ]
  },
  {
   "cell_type": "code",
   "execution_count": 1,
   "id": "a00d9a03-cd8e-442d-a734-d3364cb5c6f8",
   "metadata": {},
   "outputs": [
    {
     "name": "stdin",
     "output_type": "stream",
     "text": [
      "Enter your OpenAI API Key:  ········\n"
     ]
    },
    {
     "name": "stdout",
     "output_type": "stream",
     "text": [
      "API Key saved to /root/.secrets/openai_api_key.txt.\n"
     ]
    }
   ],
   "source": [
    "import os\n",
    "from getpass import getpass\n",
    "from pathlib import Path\n",
    "\n",
    "# Get the user's home directory\n",
    "home_dir = Path.home()\n",
    "\n",
    "# Define a secure location for the file (e.g., ~/.secrets/openai_api_key.txt)\n",
    "secrets_dir = home_dir / \".secrets\"\n",
    "secrets_dir.mkdir(exist_ok=True)  # Create the directory if it doesn't exist\n",
    "\n",
    "key_file = secrets_dir / \"openai_api_key.txt\"\n",
    "\n",
    "# Prompt for the API key\n",
    "api_key = getpass(\"Enter your OpenAI API Key: \")\n",
    "\n",
    "# Save the key securely to the file\n",
    "with key_file.open(\"w\") as f:\n",
    "    f.write(api_key)\n",
    "\n",
    "print(f\"API Key saved to {key_file}.\")"
   ]
  },
  {
   "cell_type": "code",
   "execution_count": 2,
   "id": "34f9f277-e63f-4aff-9da0-d4e8af5492b4",
   "metadata": {},
   "outputs": [
    {
     "name": "stdout",
     "output_type": "stream",
     "text": [
      "API Key retrieved successfully.\n"
     ]
    }
   ],
   "source": [
    "from pathlib import Path\n",
    "\n",
    "# Get the user's home directory\n",
    "home_dir = Path.home()\n",
    "\n",
    "# Define the file path\n",
    "key_file = home_dir / \".secrets\" / \"openai_api_key.txt\"\n",
    "\n",
    "# Retrieve the API key\n",
    "if key_file.exists():\n",
    "    with key_file.open(\"r\") as f:\n",
    "        api_key = f.read().strip()\n",
    "    print(\"API Key retrieved successfully.\")\n",
    "else:\n",
    "    print(f\"API Key file not found at {key_file}. Please save it first.\")"
   ]
  },
  {
   "cell_type": "code",
   "execution_count": null,
   "id": "db977421-a5fe-4081-b95d-54f08af73cd6",
   "metadata": {},
   "outputs": [],
   "source": []
  },
  {
   "cell_type": "code",
   "execution_count": null,
   "id": "6b9f4b83-61da-40e5-80a4-71efda00714e",
   "metadata": {},
   "outputs": [],
   "source": []
  }
 ],
 "metadata": {
  "kernelspec": {
   "display_name": "Python 3 (ipykernel)",
   "language": "python",
   "name": "python3"
  },
  "language_info": {
   "codemirror_mode": {
    "name": "ipython",
    "version": 3
   },
   "file_extension": ".py",
   "mimetype": "text/x-python",
   "name": "python",
   "nbconvert_exporter": "python",
   "pygments_lexer": "ipython3",
   "version": "3.11.9"
  }
 },
 "nbformat": 4,
 "nbformat_minor": 5
}
